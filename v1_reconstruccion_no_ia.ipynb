{
  "nbformat": 4,
  "nbformat_minor": 0,
  "metadata": {
    "colab": {
      "name": "v1_reconstruccion_no_ia.ipynb",
      "version": "0.3.2",
      "provenance": [],
      "collapsed_sections": [],
      "include_colab_link": true
    },
    "kernelspec": {
      "name": "python3",
      "display_name": "Python 3"
    }
  },
  "cells": [
    {
      "cell_type": "markdown",
      "metadata": {
        "id": "view-in-github",
        "colab_type": "text"
      },
      "source": [
        "<a href=\"https://colab.research.google.com/github/RobertoCuellar2019/tesis_1/blob/master/v1_reconstruccion_no_ia.ipynb\" target=\"_parent\"><img src=\"https://colab.research.google.com/assets/colab-badge.svg\" alt=\"Open In Colab\"/></a>"
      ]
    },
    {
      "cell_type": "markdown",
      "metadata": {
        "id": "k1_gtPsXqqHh",
        "colab_type": "text"
      },
      "source": [
        "**VERSIÓN 1.0 CÓDIGO TESIS DE PREGRADO**\n",
        "\n",
        "RECONSTRUCCIÓN DE OBJETOS 3D UTILIZANDO HOLOGRAMAS FRACCIONARES Y REDES NEURONALES PARA EL RECONOCIMIENTO DE PATRONES DE DIFRACCIÓN\n",
        "\n",
        "ROBERTO ANTONIO CUELLAR LOZANO\n",
        "UNIVERSIDAD DE PAMPLONA \n",
        "PAMPLONA- NORTE DE SANTANDER \n"
      ]
    },
    {
      "cell_type": "code",
      "metadata": {
        "id": "ISLYfbLbpd53",
        "colab_type": "code",
        "colab": {}
      },
      "source": [
        "import numpy as np  # libreria de calculo numerico y arreglos\n",
        "import matplotlib.pyplot as pl # libreria para visualización"
      ],
      "execution_count": 0,
      "outputs": []
    }
  ]
}