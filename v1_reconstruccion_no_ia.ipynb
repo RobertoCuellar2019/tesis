{
  "nbformat": 4,
  "nbformat_minor": 0,
  "metadata": {
    "colab": {
      "name": "v1_reconstruccion_no_ia.ipynb",
      "version": "0.3.2",
      "provenance": [],
      "collapsed_sections": [],
      "include_colab_link": true
    },
    "kernelspec": {
      "name": "python3",
      "display_name": "Python 3"
    }
  },
  "cells": [
    {
      "cell_type": "markdown",
      "metadata": {
        "id": "view-in-github",
        "colab_type": "text"
      },
      "source": [
        "<a href=\"https://colab.research.google.com/github/RobertoCuellar2019/tesis/blob/codigos_reconstruccion/v1_reconstruccion_no_ia.ipynb\" target=\"_parent\"><img src=\"https://colab.research.google.com/assets/colab-badge.svg\" alt=\"Open In Colab\"/></a>"
      ]
    },
    {
      "cell_type": "markdown",
      "metadata": {
        "id": "k1_gtPsXqqHh",
        "colab_type": "text"
      },
      "source": [
        "**VERSIÓN 1.0 CÓDIGO TESIS DE PREGRADO**\n",
        "\n",
        "RECONSTRUCCIÓN DE OBJETOS 3D UTILIZANDO HOLOGRAMAS FRACCIONARES Y REDES NEURONALES PARA EL RECONOCIMIENTO DE PATRONES DE DIFRACCIÓN\n",
        "\n",
        "ROBERTO ANTONIO CUELLAR LOZANO\n",
        "UNIVERSIDAD DE PAMPLONA \n",
        "PAMPLONA- NORTE DE SANTANDER \n"
      ]
    },
    {
      "cell_type": "code",
      "metadata": {
        "id": "ISLYfbLbpd53",
        "colab_type": "code",
        "colab": {}
      },
      "source": [
        "import numpy as np  # libreria de calculo numerico y arreglos\n",
        "import matplotlib.pyplot as pl # libreria para visualización"
      ],
      "execution_count": 0,
      "outputs": []
    },
    {
      "cell_type": "code",
      "metadata": {
        "id": "u1Nco0DSyHgb",
        "colab_type": "code",
        "colab": {}
      },
      "source": [
        "# Parámetros del modulador y el tamaño del pixel de modulador\n",
        "M = 768 # numero de pixeles del modulador\n",
        "N = 768\n",
        "pi = np.pi\n",
        "dx = 19e-6 # tamano del modulador\n",
        "LX = M*dx\n",
        "LY = M*dx\n",
        "x = np.linspace(-LX/2,(LX/2)-dx, M) # dominio espacial modulador\n",
        "y = x\n",
        "l_onda = 514e-9 # longitud de onda\n",
        "k = 2*pi/l_onda # numero de onda"
      ],
      "execution_count": 0,
      "outputs": []
    }
  ]
}